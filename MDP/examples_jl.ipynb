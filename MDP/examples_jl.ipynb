{
 "cells": [
  {
   "cell_type": "code",
   "execution_count": 2,
   "metadata": {},
   "outputs": [],
   "source": [
    "using LinearAlgebra\n",
    "include(\"../MDP/MRP.jl\")\n",
    "include(\"../MDP/MDP.jl\")"
   ]
  },
  {
   "cell_type": "code",
   "execution_count": 3,
   "metadata": {},
   "outputs": [
    {
     "name": "stdout",
     "output_type": "stream",
     "text": [
      "Value Function for MRP: [16.164375252629497, 17.534238266328124]\n"
     ]
    }
   ],
   "source": [
    "P = [0.5 0.5; 0.2 0.8]\n",
    "R = [1.0, 2.0]\n",
    "gamma = 0.9\n",
    "\n",
    "V = compute_value_mrp(P, R, gamma)\n",
    "println(\"Value Function for MRP: \", V)"
   ]
  },
  {
   "cell_type": "code",
   "execution_count": 5,
   "metadata": {},
   "outputs": [
    {
     "name": "stdout",
     "output_type": "stream",
     "text": [
      "Optimal Value Function: [26.007825826481447, 7.123287671232876, 0.0]\n",
      "Optimal Policy: [1, 2, 1]\n"
     ]
    }
   ],
   "source": [
    "# Define a simple MDP with 3 states and 2 actions\n",
    "P = zeros(Float64, 3, 2, 3)\n",
    "    \n",
    "# Transitions for state 1 (index 1 in Julia)\n",
    "P[1,1,:] = [0.8, 0.2, 0.0]  # Action 1\n",
    "P[1,2,:] = [0.1, 0.9, 0.0]  # Action 2\n",
    "\n",
    "# Transitions for state 2 (index 2 in Julia)\n",
    "P[2,1,:] = [0.0, 0.6, 0.4]  # Action 1\n",
    "P[2,2,:] = [0.0, 0.3, 0.7]  # Action 2\n",
    "\n",
    "# Transitions for state 3 (index 3 in Julia) - terminal state\n",
    "P[3,1,:] = [0.0, 0.0, 1.0]  # Action 1\n",
    "P[3,2,:] = [0.0, 0.0, 1.0]  # Action 2\n",
    "\n",
    "# Reward function\n",
    "R = zeros(Float64, 3, 2, 3)\n",
    "\n",
    "# Rewards for state 1\n",
    "R[1,1,:] = [5.0, 10.0, 0.0]  # Action 1\n",
    "R[1,2,:] = [3.0, 8.0, 0.0]   # Action 2\n",
    "\n",
    "# Rewards for state 2\n",
    "R[2,1,:] = [0.0, 2.0, 4.0]   # Action 1\n",
    "R[2,2,:] = [0.0, 1.0, 7.0]   # Action 2\n",
    "\n",
    "# Rewards for state 3 (all zeros for terminal state)\n",
    "R[3,1,:] = [0.0, 0.0, 0.0]   # Action 1\n",
    "R[3,2,:] = [0.0, 0.0, 0.0]   # Action 2\n",
    "\n",
    "gamma = 0.9\n",
    "\n",
    "V, policy = computevalueMDP(P, R, gamma)\n",
    "println(\"Optimal Value Function: \", V)\n",
    "println(\"Optimal Policy: \", policy)"
   ]
  }
 ],
 "metadata": {
  "kernelspec": {
   "display_name": "Julia nodeps 1.11.3",
   "language": "julia",
   "name": "julia-nodeps-1.11"
  },
  "language_info": {
   "file_extension": ".jl",
   "mimetype": "application/julia",
   "name": "julia",
   "version": "1.11.3"
  }
 },
 "nbformat": 4,
 "nbformat_minor": 2
}
