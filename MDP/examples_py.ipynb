{
 "cells": [
  {
   "cell_type": "code",
   "execution_count": 1,
   "metadata": {},
   "outputs": [
    {
     "name": "stdout",
     "output_type": "stream",
     "text": [
      "Optimal Value Function: [26.00782583  7.12328767  0.        ]\n",
      "Optimal Policy: [0 1 0]\n"
     ]
    }
   ],
   "source": [
    "import numpy as np\n",
    "from MRP import compute_value_mrp\n",
    "from MDP import compute_value_mdp"
   ]
  },
  {
   "cell_type": "code",
   "execution_count": null,
   "metadata": {},
   "outputs": [],
   "source": [
    "P = np.array([\n",
    "    # Transition probabilities from state 0: P(s'|s=0)\n",
    "    [0.5, 0.5],  # [P(s'=0|s=0), P(s'=1|s=0)]\n",
    "    \n",
    "    # Transition probabilities from state 1: P(s'|s=1)\n",
    "    [0.2, 0.8]   # [P(s'=0|s=1), P(s'=1|s=1)]\n",
    "])\n",
    "# Reward for each state\n",
    "R = np.array([1, 2])  # [R(s=0), R(s=1)]\n",
    "\n",
    "gamma = 0.9\n",
    "\n",
    "V = compute_value_mrp(P, R, gamma)\n",
    "print(\"Value Function:\", V)"
   ]
  },
  {
   "cell_type": "code",
   "execution_count": 4,
   "metadata": {},
   "outputs": [
    {
     "name": "stdout",
     "output_type": "stream",
     "text": [
      "Optimal Value Function: [26.00782583  7.12328767  0.        ]\n",
      "Optimal Policy: [0 1 0]\n"
     ]
    }
   ],
   "source": [
    "P = np.array([\n",
    "    # Transitions for state 0:\n",
    "    [\n",
    "        [0.8, 0.2, 0.0],  # Action 0: [P(s'=0|s=0,a=0), P(s'=1|s=0,a=0), P(s'=2|s=0,a=0)]\n",
    "        [0.1, 0.9, 0.0]   # Action 1: [P(s'=0|s=0,a=1), P(s'=1|s=0,a=1), P(s'=2|s=0,a=1)]\n",
    "    ],\n",
    "    # Transitions for state 1:\n",
    "    [\n",
    "        [0.0, 0.6, 0.4],  # Action 0: [P(s'=0|s=1,a=0), P(s'=1|s=1,a=0), P(s'=2|s=1,a=0)]\n",
    "        [0.0, 0.3, 0.7]   # Action 1: [P(s'=0|s=1,a=1), P(s'=1|s=1,a=1), P(s'=2|s=1,a=1)]\n",
    "    ],\n",
    "    # Transitions for state 2 (terminal state):\n",
    "    [\n",
    "        [0.0, 0.0, 1.0],  # Action 0: [P(s'=0|s=2,a=0), P(s'=1|s=2,a=0), P(s'=2|s=2,a=0)]\n",
    "        [0.0, 0.0, 1.0]   # Action 1: [P(s'=0|s=2,a=1), P(s'=1|s=2,a=1), P(s'=2|s=2,a=1)]\n",
    "    ]\n",
    "])\n",
    "\n",
    "R = np.array([\n",
    "    # Rewards for state 0:\n",
    "    [\n",
    "        [5, 10, 0],  # Action 0: [R(s=0,a=0,s'=0), R(s=0,a=0,s'=1), R(s=0,a=0,s'=2)]\n",
    "        [3, 8, 0]    # Action 1: [R(s=0,a=1,s'=0), R(s=0,a=1,s'=1), R(s=0,a=1,s'=2)]\n",
    "    ],\n",
    "    # Rewards for state 1:\n",
    "    [\n",
    "        [0, 2, 4],   # Action 0: [R(s=1,a=0,s'=0), R(s=1,a=0,s'=1), R(s=1,a=0,s'=2)]\n",
    "        [0, 1, 7]    # Action 1: [R(s=1,a=1,s'=0), R(s=1,a=1,s'=1), R(s=1,a=1,s'=2)]\n",
    "    ],\n",
    "    # Rewards for state 2 (terminal state):\n",
    "    [\n",
    "        [0, 0, 0],   # Action 0: [R(s=2,a=0,s'=0), R(s=2,a=0,s'=1), R(s=2,a=0,s'=2)]\n",
    "        [0, 0, 0]    # Action 1: [R(s=2,a=1,s'=0), R(s=2,a=1,s'=1), R(s=2,a=1,s'=2)]\n",
    "    ]\n",
    "])\n",
    "\n",
    "gamma = 0.9 \n",
    "\n",
    "V, policy = compute_value_mdp(P, R, gamma)\n",
    "print(\"Optimal Value Function:\", V)\n",
    "print(\"Optimal Policy:\", policy)  # 0 = Action 0, 1 = Action 1"
   ]
  }
 ],
 "metadata": {
  "kernelspec": {
   "display_name": "ai-planning",
   "language": "python",
   "name": "ai-planning"
  },
  "language_info": {
   "codemirror_mode": {
    "name": "ipython",
    "version": 3
   },
   "file_extension": ".py",
   "mimetype": "text/x-python",
   "name": "python",
   "nbconvert_exporter": "python",
   "pygments_lexer": "ipython3",
   "version": "3.12.1"
  }
 },
 "nbformat": 4,
 "nbformat_minor": 2
}
