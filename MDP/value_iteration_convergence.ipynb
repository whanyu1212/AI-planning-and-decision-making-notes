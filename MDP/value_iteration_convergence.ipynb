{
 "cells": [
  {
   "cell_type": "code",
   "execution_count": null,
   "metadata": {},
   "outputs": [],
   "source": [
    "import numpy as np\n",
    "import matplotlib.pyplot as plt\n",
    "\n",
    "# Store the iteration values for visualization\n",
    "iterations = [0, 1, 2, 3, 4, 5]  # Sample iterations\n",
    "values_over_time = [\n",
    "    [0, 0, 0, 0, 0],       # Initial values\n",
    "    [-1, -1, -1, -1, 0],   # Iteration 1\n",
    "    [-1.9, -1.9, -1.9, -1, 0],  # Iteration 2\n",
    "    [-2.71, -2.71, -2.52, -1.9, 0],  # Iteration 3\n",
    "    [-3.4, -3.1, -2.8, -2.4, 0],  # Iteration 4\n",
    "    [-3.8, -3.4, -2.9, -2.4, 0]   # Converged values\n",
    "]\n",
    "\n",
    "# Convert to NumPy for plotting\n",
    "values_over_time = np.array(values_over_time)\n",
    "\n",
    "# Plot value function convergence\n",
    "plt.figure(figsize=(8, 5))\n",
    "for state in range(values_over_time.shape[1]):\n",
    "    plt.plot(iterations, values_over_time[:, state], marker='o', label=f'State {state}')\n",
    "\n",
    "plt.xlabel(\"Iteration\")\n",
    "plt.ylabel(\"Value Function V(s)\")\n",
    "plt.title(\"Value Iteration Convergence on 1D Gridworld\")\n",
    "plt.legend()\n",
    "plt.grid()\n",
    "plt.show()"
   ]
  },
  {
   "cell_type": "code",
   "execution_count": null,
   "metadata": {},
   "outputs": [],
   "source": []
  }
 ],
 "metadata": {
  "kernelspec": {
   "display_name": "ai-planning",
   "language": "python",
   "name": "ai-planning"
  },
  "language_info": {
   "codemirror_mode": {
    "name": "ipython",
    "version": 3
   },
   "file_extension": ".py",
   "mimetype": "text/x-python",
   "name": "python",
   "nbconvert_exporter": "python",
   "pygments_lexer": "ipython3",
   "version": "3.12.1"
  }
 },
 "nbformat": 4,
 "nbformat_minor": 2
}
